{
 "cells": [
  {
   "cell_type": "code",
   "execution_count": 9,
   "metadata": {},
   "outputs": [
    {
     "name": "stdout",
     "output_type": "stream",
     "text": [
      "    task_id  features     rows            type\n",
      "0      2073         8     1335  classification\n",
      "1      3945      1820    45000  classification\n",
      "2      7593        98   522910  classification\n",
      "3     10090     10000     1350  classification\n",
      "4    146818        42      621  classification\n",
      "..      ...       ...      ...             ...\n",
      "66   359994       111  1993520  classification\n",
      "67   360112        65  4408587  classification\n",
      "68   360113       233   535690  classification\n",
      "69   360114        28   900000  classification\n",
      "70   360975     17102    45000  classification\n",
      "\n",
      "[71 rows x 4 columns]\n"
     ]
    }
   ],
   "source": [
    "# load task_list.csv and print the tasks\n",
    "import pandas as pd\n",
    "\n",
    "task_list = pd.read_csv('task_list.csv')\n",
    "task_list = task_list[task_list['type'] == 'classification']\n",
    "print(task_list)"
   ]
  },
  {
   "cell_type": "code",
   "execution_count": 14,
   "metadata": {},
   "outputs": [
    {
     "name": "stdout",
     "output_type": "stream",
     "text": [
      "    task_id  features  rows            type\n",
      "4    146818        42   621  classification\n",
      "27   359954        91   662  classification\n",
      "28   359955         4   673  classification\n",
      "19   190146        18   761  classification\n",
      "8    168757        61   900  classification\n",
      "29   359956        41   949  classification\n",
      "31   359958        37  1312  classification\n",
      "32   359959        24  1325  classification\n",
      "0      2073         8  1335  classification\n",
      "33   359960        21  1555  classification\n",
      "9    168784        27  1746  classification\n",
      "35   359962        21  1898  classification\n"
     ]
    }
   ],
   "source": [
    "# subset task_list to include only tasks that have less than 2000 rows and less than 1000 columns\n",
    "task_list = task_list[task_list['rows'] < 2000]\n",
    "task_list = task_list[task_list['features'] < 100]\n",
    "print(task_list.sort_values(by='rows', ascending=True))"
   ]
  },
  {
   "cell_type": "code",
   "execution_count": 15,
   "metadata": {},
   "outputs": [
    {
     "name": "stdout",
     "output_type": "stream",
     "text": [
      "12\n"
     ]
    }
   ],
   "source": [
    "# how many tasks are we using?\n",
    "print(task_list.shape[0])"
   ]
  }
 ],
 "metadata": {
  "kernelspec": {
   "display_name": "tpot2-py-3.10",
   "language": "python",
   "name": "python3"
  },
  "language_info": {
   "codemirror_mode": {
    "name": "ipython",
    "version": 3
   },
   "file_extension": ".py",
   "mimetype": "text/x-python",
   "name": "python",
   "nbconvert_exporter": "python",
   "pygments_lexer": "ipython3",
   "version": "3.10.14"
  }
 },
 "nbformat": 4,
 "nbformat_minor": 2
}
