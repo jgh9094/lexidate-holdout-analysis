{
 "cells": [
  {
   "cell_type": "code",
   "execution_count": 14,
   "metadata": {},
   "outputs": [],
   "source": [
    "import pandas as pd\n",
    "\n",
    "# load task data\n",
    "task_data = pd.read_csv('task_list.csv', index_col=False)\n",
    "\n",
    "# subset data by regression or classification tasks\n",
    "regression_tasks = task_data[task_data['type'] == 'regression']\n",
    "classification_tasks = task_data[task_data['type'] == 'classification']\n"
   ]
  },
  {
   "cell_type": "code",
   "execution_count": 15,
   "metadata": {},
   "outputs": [
    {
     "name": "stdout",
     "output_type": "stream",
     "text": [
      "Number of regression tasks: 31\n",
      "Number of classification tasks: 71\n"
     ]
    }
   ],
   "source": [
    "# print the number of regression and classification tasks\n",
    "print('Number of regression tasks:', len(regression_tasks))\n",
    "print('Number of classification tasks:', len(classification_tasks))"
   ]
  },
  {
   "cell_type": "code",
   "execution_count": 16,
   "metadata": {},
   "outputs": [
    {
     "name": "stdout",
     "output_type": "stream",
     "text": [
      "     task_id  features     rows        type\n",
      "83    359934       124      216  regression\n",
      "98    359950        22      455  regression\n",
      "80    359931        36      518  regression\n",
      "101   360945       148      981  regression\n",
      "81    359932        39     1040  regression\n",
      "71    167210        70     1108  regression\n",
      "99    359951       278     1314  regression\n",
      "94    359945       126     1794  regression\n",
      "79    359930         3     1960  regression\n",
      "82    359933         6     2796  regression\n",
      "93    359944        10     3759  regression\n",
      "76    233215       542     3788  regression\n",
      "96    359948       130     3996  regression\n",
      "75    233214      4991     4013  regression\n",
      "84    359935        11     5847  regression\n",
      "91    359942       374     6356  regression\n",
      "89    359940       251     7996  regression\n",
      "88    359939       266     7996  regression\n",
      "87    359938        45     9622  regression\n",
      "95    359946        48    13500  regression\n",
      "85    359936        18    14939  regression\n",
      "97    359949        90    19451  regression\n",
      "100   359952        16    20505  regression\n",
      "90    359941        59    35679  regression\n",
      "72    233211        26    48546  regression\n",
      "86    359937        22   150138  regression\n",
      "73    233212       669   169486  regression\n",
      "77    317614       100   360000  regression\n",
      "92    359943       251   523651  regression\n",
      "74    233213        77   524925  regression\n",
      "78    359929       258  9000000  regression\n"
     ]
    }
   ],
   "source": [
    "# print the regression tasks ordered by the number of observations\n",
    "print(regression_tasks.sort_values(by='rows', ascending=True))"
   ]
  },
  {
   "cell_type": "code",
   "execution_count": null,
   "metadata": {},
   "outputs": [],
   "source": [
    "# keep this in mind for the preliminary tasks\n",
    "regression_prelim_tasks = [359934, 359945, 359948, 359939]"
   ]
  },
  {
   "cell_type": "code",
   "execution_count": 18,
   "metadata": {},
   "outputs": [
    {
     "name": "stdout",
     "output_type": "stream",
     "text": [
      "    task_id  features   rows            type\n",
      "23   190412     10000     90  classification\n",
      "26   359953      1300    513  classification\n",
      "4    146818        42    621  classification\n",
      "27   359954        91    662  classification\n",
      "28   359955         4    673  classification\n",
      "19   190146        18    761  classification\n",
      "8    168757        61    900  classification\n",
      "29   359956        41    949  classification\n",
      "30   359957       856    972  classification\n",
      "31   359958        37   1312  classification\n",
      "32   359959        24   1325  classification\n",
      "0      2073         8   1335  classification\n",
      "3     10090     10000   1350  classification\n",
      "33   359960        21   1555  classification\n",
      "9    168784        27   1746  classification\n",
      "34   359961       216   1800  classification\n",
      "35   359962        21   1898  classification\n",
      "36   359963        16   2079  classification\n",
      "18   190137        72   2280  classification\n",
      "13   168911       279   2685  classification\n",
      "20   190392       259   2826  classification\n",
      "17   189922       970   2837  classification\n",
      "37   359964       360   2867  classification\n",
      "38   359965        73   2876  classification\n",
      "39   359966      3113   2951  classification\n",
      "40   359967      1776   3375  classification\n",
      "22   190411        48   3732  classification\n",
      "5    146820         5   4355  classification\n",
      "47   359974        11   4408  classification\n",
      "41   359968        32   4500  classification\n",
      "48   359975        36   4590  classification\n",
      "45   359972        20   4611  classification\n",
      "7    168350         5   4863  classification\n",
      "46   359973      1648   4876  classification\n",
      "21   190410       308   5248  classification\n",
      "42   359969        51   5506  classification\n",
      "12   168910       800   7413  classification\n",
      "43   359970        32   8885  classification\n",
      "11   168909      2000   9000  classification\n",
      "58   359986      7200   9000  classification\n",
      "44   359971        68   9949  classification\n",
      "60   359988      4296  18000  classification\n",
      "61   359989      4296  18000  classification\n",
      "51   359979      1054  29492  classification\n"
     ]
    }
   ],
   "source": [
    "# print the classification tasks ordered by the number of observations less than 30,000\n",
    "print(classification_tasks[classification_tasks['rows'] < 30000].sort_values(by='rows', ascending=True))"
   ]
  },
  {
   "cell_type": "code",
   "execution_count": 19,
   "metadata": {},
   "outputs": [],
   "source": [
    "# keep this in mind for the preliminary tasks\n",
    "classification_prelim_tasks = [146818, 168784, 190137, 359933]"
   ]
  }
 ],
 "metadata": {
  "kernelspec": {
   "display_name": "tpot2-py-3.10",
   "language": "python",
   "name": "python3"
  },
  "language_info": {
   "codemirror_mode": {
    "name": "ipython",
    "version": 3
   },
   "file_extension": ".py",
   "mimetype": "text/x-python",
   "name": "python",
   "nbconvert_exporter": "python",
   "pygments_lexer": "ipython3",
   "version": "3.10.14"
  }
 },
 "nbformat": 4,
 "nbformat_minor": 2
}
